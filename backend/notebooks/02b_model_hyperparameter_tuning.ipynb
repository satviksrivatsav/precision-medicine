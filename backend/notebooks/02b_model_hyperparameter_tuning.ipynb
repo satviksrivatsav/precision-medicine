{
 "cells": [
  {
   "cell_type": "code",
   "execution_count": null,
   "id": "d35c7a0f",
   "metadata": {},
   "outputs": [
    {
     "name": "stdout",
     "output_type": "stream",
     "text": [
      "Starting hyperparameter search...\n",
      "Search complete.\n",
      "Best AUC Score from search: 0.9282\n",
      "Best parameters found:\n",
      "{'max_depth': 14, 'min_samples_leaf': 2, 'min_samples_split': 5, 'n_estimators': 369}\n",
      "\n",
      "TUNED best model saved successfully to: D:\\Satvik\\Projects\\College\\Minor\\Code\\backend\\models\\best_heart_disease_classifier.joblib\n"
     ]
    }
   ],
   "source": [
    "# In notebook: 02b_model_hyperparameter_tuning.ipynb\n",
    "import pandas as pd\n",
    "import joblib\n",
    "import os\n",
    "from sklearn.ensemble import RandomForestClassifier\n",
    "from sklearn.model_selection import RandomizedSearchCV\n",
    "from scipy.stats import randint\n",
    "\n",
    "# --- Load Data ---\n",
    "PROCESSED_DATA_DIR = os.path.join(r\"D:\\Satvik\\Projects\\College\\Minor\\Code\\backend\", \"data\", \"processed\")\n",
    "X_train = joblib.load(os.path.join(PROCESSED_DATA_DIR, \"X_train.joblib\"))\n",
    "y_train = joblib.load(os.path.join(PROCESSED_DATA_DIR, \"y_train.joblib\"))\n",
    "\n",
    "# --- Define Parameter Grid ---\n",
    "# This tells RandomizedSearchCV which parameters to try and what ranges to try them in.\n",
    "param_dist = {\n",
    "    'n_estimators': randint(100, 500),\n",
    "    'max_depth': randint(5, 20),\n",
    "    'min_samples_split': randint(2, 10),\n",
    "    'min_samples_leaf': randint(1, 4)\n",
    "}\n",
    "\n",
    "# --- Set up Randomized Search ---\n",
    "rf = RandomForestClassifier(random_state=42)\n",
    "rand_search = RandomizedSearchCV(\n",
    "    estimator=rf,\n",
    "    param_distributions=param_dist,\n",
    "    n_iter=50,  # Try 50 different combinations\n",
    "    cv=5,       # 5-fold cross-validation\n",
    "    random_state=42,\n",
    "    n_jobs=-1,  # Use all available CPU cores\n",
    "    scoring='roc_auc' # We care most about AUC!\n",
    ")\n",
    "\n",
    "# --- Run the Search ---\n",
    "print(\"Starting hyperparameter search...\")\n",
    "rand_search.fit(X_train, y_train)\n",
    "print(\"Search complete.\")\n",
    "\n",
    "# --- Get Best Model ---\n",
    "print(f\"Best AUC Score from search: {rand_search.best_score_:.4f}\")\n",
    "print(\"Best parameters found:\")\n",
    "print(rand_search.best_params_)\n",
    "\n",
    "best_rf_tuned = rand_search.best_estimator_\n",
    "\n",
    "# --- Save the NEW Best Model ---\n",
    "MODEL_PATH = os.path.join(r\"D:\\Satvik\\Projects\\College\\Minor\\Code\\backend\", \"models\", \"best_heart_disease_classifier.joblib\")\n",
    "joblib.dump(best_rf_tuned, MODEL_PATH)\n",
    "print(f\"\\nTUNED best model saved successfully to: {MODEL_PATH}\")"
   ]
  }
 ],
 "metadata": {
  "kernelspec": {
   "display_name": "venv",
   "language": "python",
   "name": "python3"
  },
  "language_info": {
   "codemirror_mode": {
    "name": "ipython",
    "version": 3
   },
   "file_extension": ".py",
   "mimetype": "text/x-python",
   "name": "python",
   "nbconvert_exporter": "python",
   "pygments_lexer": "ipython3",
   "version": "3.13.5"
  }
 },
 "nbformat": 4,
 "nbformat_minor": 5
}

{
 "cells": [
  {
   "cell_type": "code",
   "execution_count": 1,
   "id": "d35c7a0f",
   "metadata": {},
   "outputs": [
    {
     "name": "stdout",
     "output_type": "stream",
     "text": [
      "Diabetes training data loaded.\n",
      "Starting hyperparameter search...\n",
      "Search complete.\n",
      "Best AUC Score from search: 0.8360\n",
      "Best parameters found:\n",
      "{'max_depth': 5, 'min_samples_leaf': 3, 'min_samples_split': 4, 'n_estimators': 269}\n",
      "\n",
      "TUNED best diabetes model saved successfully to: ..\\models\\diabetes\\best_diabetes_classifier.joblib\n"
     ]
    }
   ],
   "source": [
    "# In notebook: 02b_model_hyperparameter_tuning.ipynb\n",
    "import pandas as pd\n",
    "import joblib\n",
    "import os\n",
    "from sklearn.ensemble import RandomForestClassifier\n",
    "from sklearn.model_selection import RandomizedSearchCV\n",
    "from scipy.stats import randint\n",
    "\n",
    "DIABETES_PROCESSED_DIR = os.path.join(\"..\", \"data\", \"processed\", \"diabetes\")\n",
    "X_train = joblib.load(os.path.join(DIABETES_PROCESSED_DIR, \"X_train.joblib\"))\n",
    "y_train = joblib.load(os.path.join(DIABETES_PROCESSED_DIR, \"y_train.joblib\"))\n",
    "print(\"Diabetes training data loaded.\")\n",
    "\n",
    "# --- Define Parameter Grid ---\n",
    "# This tells RandomizedSearchCV which parameters to try and what ranges to try them in.\n",
    "param_dist = {\n",
    "    'n_estimators': randint(100, 500),\n",
    "    'max_depth': randint(5, 20),\n",
    "    'min_samples_split': randint(2, 10),\n",
    "    'min_samples_leaf': randint(1, 4)\n",
    "}\n",
    "\n",
    "# --- Set up Randomized Search ---\n",
    "# Tell the classifier to handle the imbalanced dataset\n",
    "rf = RandomForestClassifier(random_state=42, class_weight='balanced')\n",
    "rand_search = RandomizedSearchCV(\n",
    "    estimator=rf,\n",
    "    param_distributions=param_dist,\n",
    "    n_iter=50,  # Try 50 different combinations\n",
    "    cv=5,       # 5-fold cross-validation\n",
    "    random_state=42,\n",
    "    n_jobs=-1,  # Use all available CPU cores\n",
    "    scoring='roc_auc' # We care most about AUC!\n",
    ")\n",
    "\n",
    "# --- Run the Search ---\n",
    "print(\"Starting hyperparameter search...\")\n",
    "rand_search.fit(X_train, y_train)\n",
    "print(\"Search complete.\")\n",
    "\n",
    "# --- Get Best Model ---\n",
    "print(f\"Best AUC Score from search: {rand_search.best_score_:.4f}\")\n",
    "print(\"Best parameters found:\")\n",
    "print(rand_search.best_params_)\n",
    "\n",
    "best_rf_tuned = rand_search.best_estimator_\n",
    "\n",
    "# --- Save the NEW Tuned Diabetes Model ---\n",
    "DIABETES_MODELS_DIR = os.path.join(\"..\", \"models\", \"diabetes\")\n",
    "MODEL_PATH = os.path.join(DIABETES_MODELS_DIR, \"best_diabetes_classifier.joblib\")\n",
    "\n",
    "# Make sure the directory exists\n",
    "os.makedirs(DIABETES_MODELS_DIR, exist_ok=True)\n",
    "\n",
    "joblib.dump(best_rf_tuned, MODEL_PATH)\n",
    "print(f\"\\nTUNED best diabetes model saved successfully to: {MODEL_PATH}\")"
   ]
  }
 ],
 "metadata": {
  "kernelspec": {
   "display_name": "venv",
   "language": "python",
   "name": "python3"
  },
  "language_info": {
   "codemirror_mode": {
    "name": "ipython",
    "version": 3
   },
   "file_extension": ".py",
   "mimetype": "text/x-python",
   "name": "python",
   "nbconvert_exporter": "python",
   "pygments_lexer": "ipython3",
   "version": "3.13.5"
  }
 },
 "nbformat": 4,
 "nbformat_minor": 5
}
